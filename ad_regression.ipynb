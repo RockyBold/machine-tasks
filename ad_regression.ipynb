{
 "cells": [
  {
   "cell_type": "code",
   "execution_count": 2,
   "id": "60e19c7d",
   "metadata": {},
   "outputs": [],
   "source": [
    "import pandas as pd\n",
    "import statsmodels.api as sm\n",
    "from sklearn.model_selection import train_test_split"
   ]
  },
  {
   "cell_type": "code",
   "execution_count": 3,
   "id": "dc879cd0",
   "metadata": {},
   "outputs": [],
   "source": [
    "df = pd.read_csv('ML datasets/Advertising_Data.csv')"
   ]
  },
  {
   "cell_type": "code",
   "execution_count": null,
   "id": "cf2702e6",
   "metadata": {},
   "outputs": [],
   "source": [
    "df"
   ]
  },
  {
   "cell_type": "code",
   "execution_count": 5,
   "id": "1b9c6dc2",
   "metadata": {},
   "outputs": [
    {
     "data": {
      "text/html": [
       "<div>\n",
       "<style scoped>\n",
       "    .dataframe tbody tr th:only-of-type {\n",
       "        vertical-align: middle;\n",
       "    }\n",
       "\n",
       "    .dataframe tbody tr th {\n",
       "        vertical-align: top;\n",
       "    }\n",
       "\n",
       "    .dataframe thead th {\n",
       "        text-align: right;\n",
       "    }\n",
       "</style>\n",
       "<table border=\"1\" class=\"dataframe\">\n",
       "  <thead>\n",
       "    <tr style=\"text-align: right;\">\n",
       "      <th></th>\n",
       "      <th>TV</th>\n",
       "      <th>Billboards</th>\n",
       "      <th>Google_Ads</th>\n",
       "      <th>Social_Media</th>\n",
       "      <th>Influencer_Marketing</th>\n",
       "      <th>Affiliate_Marketing</th>\n",
       "      <th>Product_Sold</th>\n",
       "    </tr>\n",
       "  </thead>\n",
       "  <tbody>\n",
       "    <tr>\n",
       "      <th>0</th>\n",
       "      <td>281.42</td>\n",
       "      <td>538.80</td>\n",
       "      <td>123.94</td>\n",
       "      <td>349.30</td>\n",
       "      <td>242.77</td>\n",
       "      <td>910.10</td>\n",
       "      <td>7164.0</td>\n",
       "    </tr>\n",
       "    <tr>\n",
       "      <th>1</th>\n",
       "      <td>702.97</td>\n",
       "      <td>296.53</td>\n",
       "      <td>558.13</td>\n",
       "      <td>180.55</td>\n",
       "      <td>781.06</td>\n",
       "      <td>132.43</td>\n",
       "      <td>5055.0</td>\n",
       "    </tr>\n",
       "    <tr>\n",
       "      <th>2</th>\n",
       "      <td>313.14</td>\n",
       "      <td>295.94</td>\n",
       "      <td>642.96</td>\n",
       "      <td>505.71</td>\n",
       "      <td>438.91</td>\n",
       "      <td>464.23</td>\n",
       "      <td>6154.0</td>\n",
       "    </tr>\n",
       "    <tr>\n",
       "      <th>3</th>\n",
       "      <td>898.52</td>\n",
       "      <td>61.27</td>\n",
       "      <td>548.73</td>\n",
       "      <td>240.93</td>\n",
       "      <td>278.96</td>\n",
       "      <td>432.27</td>\n",
       "      <td>5480.0</td>\n",
       "    </tr>\n",
       "    <tr>\n",
       "      <th>4</th>\n",
       "      <td>766.52</td>\n",
       "      <td>550.72</td>\n",
       "      <td>651.91</td>\n",
       "      <td>666.33</td>\n",
       "      <td>396.33</td>\n",
       "      <td>841.93</td>\n",
       "      <td>9669.0</td>\n",
       "    </tr>\n",
       "  </tbody>\n",
       "</table>\n",
       "</div>"
      ],
      "text/plain": [
       "       TV  Billboards  Google_Ads  Social_Media  Influencer_Marketing  \\\n",
       "0  281.42      538.80      123.94        349.30                242.77   \n",
       "1  702.97      296.53      558.13        180.55                781.06   \n",
       "2  313.14      295.94      642.96        505.71                438.91   \n",
       "3  898.52       61.27      548.73        240.93                278.96   \n",
       "4  766.52      550.72      651.91        666.33                396.33   \n",
       "\n",
       "   Affiliate_Marketing  Product_Sold  \n",
       "0               910.10        7164.0  \n",
       "1               132.43        5055.0  \n",
       "2               464.23        6154.0  \n",
       "3               432.27        5480.0  \n",
       "4               841.93        9669.0  "
      ]
     },
     "execution_count": 5,
     "metadata": {},
     "output_type": "execute_result"
    }
   ],
   "source": [
    "df.head()"
   ]
  },
  {
   "cell_type": "code",
   "execution_count": 6,
   "id": "fb622ad1",
   "metadata": {},
   "outputs": [
    {
     "name": "stdout",
     "output_type": "stream",
     "text": [
      "<class 'pandas.core.frame.DataFrame'>\n",
      "RangeIndex: 300 entries, 0 to 299\n",
      "Data columns (total 7 columns):\n",
      " #   Column                Non-Null Count  Dtype  \n",
      "---  ------                --------------  -----  \n",
      " 0   TV                    300 non-null    float64\n",
      " 1   Billboards            300 non-null    float64\n",
      " 2   Google_Ads            300 non-null    float64\n",
      " 3   Social_Media          300 non-null    float64\n",
      " 4   Influencer_Marketing  300 non-null    float64\n",
      " 5   Affiliate_Marketing   300 non-null    float64\n",
      " 6   Product_Sold          300 non-null    float64\n",
      "dtypes: float64(7)\n",
      "memory usage: 16.5 KB\n"
     ]
    }
   ],
   "source": [
    "df.info()"
   ]
  },
  {
   "cell_type": "code",
   "execution_count": 8,
   "id": "36ed9411",
   "metadata": {},
   "outputs": [
    {
     "data": {
      "text/html": [
       "<div>\n",
       "<style scoped>\n",
       "    .dataframe tbody tr th:only-of-type {\n",
       "        vertical-align: middle;\n",
       "    }\n",
       "\n",
       "    .dataframe tbody tr th {\n",
       "        vertical-align: top;\n",
       "    }\n",
       "\n",
       "    .dataframe thead th {\n",
       "        text-align: right;\n",
       "    }\n",
       "</style>\n",
       "<table border=\"1\" class=\"dataframe\">\n",
       "  <thead>\n",
       "    <tr style=\"text-align: right;\">\n",
       "      <th></th>\n",
       "      <th>TV</th>\n",
       "      <th>Billboards</th>\n",
       "      <th>Google_Ads</th>\n",
       "      <th>Social_Media</th>\n",
       "      <th>Influencer_Marketing</th>\n",
       "      <th>Affiliate_Marketing</th>\n",
       "      <th>Product_Sold</th>\n",
       "    </tr>\n",
       "  </thead>\n",
       "  <tbody>\n",
       "    <tr>\n",
       "      <th>TV</th>\n",
       "      <td>1.000000</td>\n",
       "      <td>-0.028851</td>\n",
       "      <td>0.025265</td>\n",
       "      <td>-0.038993</td>\n",
       "      <td>0.009970</td>\n",
       "      <td>0.087524</td>\n",
       "      <td>0.374228</td>\n",
       "    </tr>\n",
       "    <tr>\n",
       "      <th>Billboards</th>\n",
       "      <td>-0.028851</td>\n",
       "      <td>1.000000</td>\n",
       "      <td>0.052991</td>\n",
       "      <td>0.048722</td>\n",
       "      <td>-0.005815</td>\n",
       "      <td>-0.041060</td>\n",
       "      <td>0.480593</td>\n",
       "    </tr>\n",
       "    <tr>\n",
       "      <th>Google_Ads</th>\n",
       "      <td>0.025265</td>\n",
       "      <td>0.052991</td>\n",
       "      <td>1.000000</td>\n",
       "      <td>0.040265</td>\n",
       "      <td>-0.059243</td>\n",
       "      <td>-0.131834</td>\n",
       "      <td>0.203678</td>\n",
       "    </tr>\n",
       "    <tr>\n",
       "      <th>Social_Media</th>\n",
       "      <td>-0.038993</td>\n",
       "      <td>0.048722</td>\n",
       "      <td>0.040265</td>\n",
       "      <td>1.000000</td>\n",
       "      <td>-0.042679</td>\n",
       "      <td>-0.019522</td>\n",
       "      <td>0.401088</td>\n",
       "    </tr>\n",
       "    <tr>\n",
       "      <th>Influencer_Marketing</th>\n",
       "      <td>0.009970</td>\n",
       "      <td>-0.005815</td>\n",
       "      <td>-0.059243</td>\n",
       "      <td>-0.042679</td>\n",
       "      <td>1.000000</td>\n",
       "      <td>-0.047093</td>\n",
       "      <td>0.140844</td>\n",
       "    </tr>\n",
       "    <tr>\n",
       "      <th>Affiliate_Marketing</th>\n",
       "      <td>0.087524</td>\n",
       "      <td>-0.041060</td>\n",
       "      <td>-0.131834</td>\n",
       "      <td>-0.019522</td>\n",
       "      <td>-0.047093</td>\n",
       "      <td>1.000000</td>\n",
       "      <td>0.611603</td>\n",
       "    </tr>\n",
       "    <tr>\n",
       "      <th>Product_Sold</th>\n",
       "      <td>0.374228</td>\n",
       "      <td>0.480593</td>\n",
       "      <td>0.203678</td>\n",
       "      <td>0.401088</td>\n",
       "      <td>0.140844</td>\n",
       "      <td>0.611603</td>\n",
       "      <td>1.000000</td>\n",
       "    </tr>\n",
       "  </tbody>\n",
       "</table>\n",
       "</div>"
      ],
      "text/plain": [
       "                            TV  Billboards  Google_Ads  Social_Media  \\\n",
       "TV                    1.000000   -0.028851    0.025265     -0.038993   \n",
       "Billboards           -0.028851    1.000000    0.052991      0.048722   \n",
       "Google_Ads            0.025265    0.052991    1.000000      0.040265   \n",
       "Social_Media         -0.038993    0.048722    0.040265      1.000000   \n",
       "Influencer_Marketing  0.009970   -0.005815   -0.059243     -0.042679   \n",
       "Affiliate_Marketing   0.087524   -0.041060   -0.131834     -0.019522   \n",
       "Product_Sold          0.374228    0.480593    0.203678      0.401088   \n",
       "\n",
       "                      Influencer_Marketing  Affiliate_Marketing  Product_Sold  \n",
       "TV                                0.009970             0.087524      0.374228  \n",
       "Billboards                       -0.005815            -0.041060      0.480593  \n",
       "Google_Ads                       -0.059243            -0.131834      0.203678  \n",
       "Social_Media                     -0.042679            -0.019522      0.401088  \n",
       "Influencer_Marketing              1.000000            -0.047093      0.140844  \n",
       "Affiliate_Marketing              -0.047093             1.000000      0.611603  \n",
       "Product_Sold                      0.140844             0.611603      1.000000  "
      ]
     },
     "execution_count": 8,
     "metadata": {},
     "output_type": "execute_result"
    }
   ],
   "source": [
    "corr = df.corr()\n",
    "corr"
   ]
  },
  {
   "cell_type": "code",
   "execution_count": 10,
   "id": "bdc7c732",
   "metadata": {},
   "outputs": [
    {
     "data": {
      "text/plain": [
       "Product_Sold            1.000000\n",
       "Affiliate_Marketing     0.611603\n",
       "Billboards              0.480593\n",
       "Social_Media            0.401088\n",
       "TV                      0.374228\n",
       "Google_Ads              0.203678\n",
       "Influencer_Marketing    0.140844\n",
       "Name: Product_Sold, dtype: float64"
      ]
     },
     "execution_count": 10,
     "metadata": {},
     "output_type": "execute_result"
    }
   ],
   "source": [
    "corr['Product_Sold'].sort_values(ascending=False)"
   ]
  },
  {
   "cell_type": "code",
   "execution_count": 21,
   "id": "aefdd265",
   "metadata": {},
   "outputs": [],
   "source": [
    "df = df.drop(columns=['Influencer_Marketing'])"
   ]
  },
  {
   "cell_type": "code",
   "execution_count": 22,
   "id": "84bc9075",
   "metadata": {},
   "outputs": [],
   "source": [
    "x = df.drop(columns=['Product_Sold'])\n",
    "y = df['Product_Sold']"
   ]
  },
  {
   "cell_type": "code",
   "execution_count": 23,
   "id": "9738222b",
   "metadata": {},
   "outputs": [],
   "source": [
    "x_train, x_test, y_train, y_test = train_test_split(x, y, test_size=0.25, shuffle=True)"
   ]
  },
  {
   "cell_type": "code",
   "execution_count": 24,
   "id": "44c4a259",
   "metadata": {},
   "outputs": [],
   "source": [
    "x_train = sm.add_constant(x_train)"
   ]
  },
  {
   "cell_type": "code",
   "execution_count": 27,
   "id": "bf7aa84e",
   "metadata": {},
   "outputs": [
    {
     "data": {
      "text/html": [
       "<table class=\"simpletable\">\n",
       "<caption>OLS Regression Results</caption>\n",
       "<tr>\n",
       "  <th>Dep. Variable:</th>      <td>Product_Sold</td>   <th>  R-squared:         </th> <td>   0.957</td> \n",
       "</tr>\n",
       "<tr>\n",
       "  <th>Model:</th>                   <td>OLS</td>       <th>  Adj. R-squared:    </th> <td>   0.956</td> \n",
       "</tr>\n",
       "<tr>\n",
       "  <th>Method:</th>             <td>Least Squares</td>  <th>  F-statistic:       </th> <td>   966.2</td> \n",
       "</tr>\n",
       "<tr>\n",
       "  <th>Date:</th>             <td>Fri, 22 Dec 2023</td> <th>  Prob (F-statistic):</th> <td>4.80e-147</td>\n",
       "</tr>\n",
       "<tr>\n",
       "  <th>Time:</th>                 <td>01:30:27</td>     <th>  Log-Likelihood:    </th> <td> -1636.2</td> \n",
       "</tr>\n",
       "<tr>\n",
       "  <th>No. Observations:</th>      <td>   225</td>      <th>  AIC:               </th> <td>   3284.</td> \n",
       "</tr>\n",
       "<tr>\n",
       "  <th>Df Residuals:</th>          <td>   219</td>      <th>  BIC:               </th> <td>   3305.</td> \n",
       "</tr>\n",
       "<tr>\n",
       "  <th>Df Model:</th>              <td>     5</td>      <th>                     </th>     <td> </td>    \n",
       "</tr>\n",
       "<tr>\n",
       "  <th>Covariance Type:</th>      <td>nonrobust</td>    <th>                     </th>     <td> </td>    \n",
       "</tr>\n",
       "</table>\n",
       "<table class=\"simpletable\">\n",
       "<tr>\n",
       "           <td></td>              <th>coef</th>     <th>std err</th>      <th>t</th>      <th>P>|t|</th>  <th>[0.025</th>    <th>0.975]</th>  \n",
       "</tr>\n",
       "<tr>\n",
       "  <th>const</th>               <td>  647.7486</td> <td>   99.743</td> <td>    6.494</td> <td> 0.000</td> <td>  451.170</td> <td>  844.327</td>\n",
       "</tr>\n",
       "<tr>\n",
       "  <th>TV</th>                  <td>    1.9560</td> <td>    0.083</td> <td>   23.622</td> <td> 0.000</td> <td>    1.793</td> <td>    2.119</td>\n",
       "</tr>\n",
       "<tr>\n",
       "  <th>Billboards</th>          <td>    3.0513</td> <td>    0.088</td> <td>   34.588</td> <td> 0.000</td> <td>    2.877</td> <td>    3.225</td>\n",
       "</tr>\n",
       "<tr>\n",
       "  <th>Google_Ads</th>          <td>    1.4253</td> <td>    0.083</td> <td>   17.178</td> <td> 0.000</td> <td>    1.262</td> <td>    1.589</td>\n",
       "</tr>\n",
       "<tr>\n",
       "  <th>Social_Media</th>        <td>    2.4140</td> <td>    0.090</td> <td>   26.924</td> <td> 0.000</td> <td>    2.237</td> <td>    2.591</td>\n",
       "</tr>\n",
       "<tr>\n",
       "  <th>Affiliate_Marketing</th> <td>    3.9268</td> <td>    0.086</td> <td>   45.632</td> <td> 0.000</td> <td>    3.757</td> <td>    4.096</td>\n",
       "</tr>\n",
       "</table>\n",
       "<table class=\"simpletable\">\n",
       "<tr>\n",
       "  <th>Omnibus:</th>       <td>112.777</td> <th>  Durbin-Watson:     </th> <td>   1.982</td>\n",
       "</tr>\n",
       "<tr>\n",
       "  <th>Prob(Omnibus):</th> <td> 0.000</td>  <th>  Jarque-Bera (JB):  </th> <td>  14.734</td>\n",
       "</tr>\n",
       "<tr>\n",
       "  <th>Skew:</th>          <td> 0.175</td>  <th>  Prob(JB):          </th> <td>0.000632</td>\n",
       "</tr>\n",
       "<tr>\n",
       "  <th>Kurtosis:</th>      <td> 1.796</td>  <th>  Cond. No.          </th> <td>4.87e+03</td>\n",
       "</tr>\n",
       "</table><br/><br/>Notes:<br/>[1] Standard Errors assume that the covariance matrix of the errors is correctly specified.<br/>[2] The condition number is large, 4.87e+03. This might indicate that there are<br/>strong multicollinearity or other numerical problems."
      ],
      "text/plain": [
       "<class 'statsmodels.iolib.summary.Summary'>\n",
       "\"\"\"\n",
       "                            OLS Regression Results                            \n",
       "==============================================================================\n",
       "Dep. Variable:           Product_Sold   R-squared:                       0.957\n",
       "Model:                            OLS   Adj. R-squared:                  0.956\n",
       "Method:                 Least Squares   F-statistic:                     966.2\n",
       "Date:                Fri, 22 Dec 2023   Prob (F-statistic):          4.80e-147\n",
       "Time:                        01:30:27   Log-Likelihood:                -1636.2\n",
       "No. Observations:                 225   AIC:                             3284.\n",
       "Df Residuals:                     219   BIC:                             3305.\n",
       "Df Model:                           5                                         \n",
       "Covariance Type:            nonrobust                                         \n",
       "=======================================================================================\n",
       "                          coef    std err          t      P>|t|      [0.025      0.975]\n",
       "---------------------------------------------------------------------------------------\n",
       "const                 647.7486     99.743      6.494      0.000     451.170     844.327\n",
       "TV                      1.9560      0.083     23.622      0.000       1.793       2.119\n",
       "Billboards              3.0513      0.088     34.588      0.000       2.877       3.225\n",
       "Google_Ads              1.4253      0.083     17.178      0.000       1.262       1.589\n",
       "Social_Media            2.4140      0.090     26.924      0.000       2.237       2.591\n",
       "Affiliate_Marketing     3.9268      0.086     45.632      0.000       3.757       4.096\n",
       "==============================================================================\n",
       "Omnibus:                      112.777   Durbin-Watson:                   1.982\n",
       "Prob(Omnibus):                  0.000   Jarque-Bera (JB):               14.734\n",
       "Skew:                           0.175   Prob(JB):                     0.000632\n",
       "Kurtosis:                       1.796   Cond. No.                     4.87e+03\n",
       "==============================================================================\n",
       "\n",
       "Notes:\n",
       "[1] Standard Errors assume that the covariance matrix of the errors is correctly specified.\n",
       "[2] The condition number is large, 4.87e+03. This might indicate that there are\n",
       "strong multicollinearity or other numerical problems.\n",
       "\"\"\""
      ]
     },
     "execution_count": 27,
     "metadata": {},
     "output_type": "execute_result"
    }
   ],
   "source": [
    "reg_model = sm.OLS(y_train, x_train).fit()\n",
    "reg_model.summary()"
   ]
  },
  {
   "cell_type": "code",
   "execution_count": 29,
   "id": "3a07d5ba",
   "metadata": {},
   "outputs": [],
   "source": [
    "x_test = sm.add_constant(x_test)"
   ]
  },
  {
   "cell_type": "code",
   "execution_count": 31,
   "id": "a37bba39",
   "metadata": {},
   "outputs": [],
   "source": [
    "y_pred = reg_model.predict(x_test)"
   ]
  },
  {
   "cell_type": "code",
   "execution_count": 34,
   "id": "4bef8d46",
   "metadata": {},
   "outputs": [
    {
     "data": {
      "text/html": [
       "<div>\n",
       "<style scoped>\n",
       "    .dataframe tbody tr th:only-of-type {\n",
       "        vertical-align: middle;\n",
       "    }\n",
       "\n",
       "    .dataframe tbody tr th {\n",
       "        vertical-align: top;\n",
       "    }\n",
       "\n",
       "    .dataframe thead th {\n",
       "        text-align: right;\n",
       "    }\n",
       "</style>\n",
       "<table border=\"1\" class=\"dataframe\">\n",
       "  <thead>\n",
       "    <tr style=\"text-align: right;\">\n",
       "      <th></th>\n",
       "      <th>Actual</th>\n",
       "      <th>Predicted</th>\n",
       "    </tr>\n",
       "  </thead>\n",
       "  <tbody>\n",
       "    <tr>\n",
       "      <th>0</th>\n",
       "      <td>8760.0</td>\n",
       "      <td>8564.025279</td>\n",
       "    </tr>\n",
       "    <tr>\n",
       "      <th>1</th>\n",
       "      <td>4358.0</td>\n",
       "      <td>4671.285220</td>\n",
       "    </tr>\n",
       "    <tr>\n",
       "      <th>2</th>\n",
       "      <td>9889.0</td>\n",
       "      <td>9475.343945</td>\n",
       "    </tr>\n",
       "    <tr>\n",
       "      <th>3</th>\n",
       "      <td>7803.0</td>\n",
       "      <td>7346.624910</td>\n",
       "    </tr>\n",
       "    <tr>\n",
       "      <th>4</th>\n",
       "      <td>7339.0</td>\n",
       "      <td>7271.749600</td>\n",
       "    </tr>\n",
       "  </tbody>\n",
       "</table>\n",
       "</div>"
      ],
      "text/plain": [
       "   Actual    Predicted\n",
       "0  8760.0  8564.025279\n",
       "1  4358.0  4671.285220\n",
       "2  9889.0  9475.343945\n",
       "3  7803.0  7346.624910\n",
       "4  7339.0  7271.749600"
      ]
     },
     "execution_count": 34,
     "metadata": {},
     "output_type": "execute_result"
    }
   ],
   "source": [
    "results = pd.DataFrame(data={'Actual':y_test,'Predicted':y_pred}).reset_index(drop=True)\n",
    "results.head()"
   ]
  },
  {
   "cell_type": "code",
   "execution_count": null,
   "id": "aea985f4",
   "metadata": {},
   "outputs": [],
   "source": []
  }
 ],
 "metadata": {
  "kernelspec": {
   "display_name": "Python 3 (ipykernel)",
   "language": "python",
   "name": "python3"
  },
  "language_info": {
   "codemirror_mode": {
    "name": "ipython",
    "version": 3
   },
   "file_extension": ".py",
   "mimetype": "text/x-python",
   "name": "python",
   "nbconvert_exporter": "python",
   "pygments_lexer": "ipython3",
   "version": "3.9.7"
  }
 },
 "nbformat": 4,
 "nbformat_minor": 5
}
